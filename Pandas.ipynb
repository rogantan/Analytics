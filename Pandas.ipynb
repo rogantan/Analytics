{
  "nbformat": 4,
  "nbformat_minor": 0,
  "metadata": {
    "colab": {
      "provenance": [],
      "authorship_tag": "ABX9TyP6MiT1/zzHs2Ie4oSxTQ31",
      "include_colab_link": true
    },
    "kernelspec": {
      "name": "python3",
      "display_name": "Python 3"
    },
    "language_info": {
      "name": "python"
    }
  },
  "cells": [
    {
      "cell_type": "markdown",
      "metadata": {
        "id": "view-in-github",
        "colab_type": "text"
      },
      "source": [
        "<a href=\"https://colab.research.google.com/github/rogantan/Analytics/blob/main/Pandas.ipynb\" target=\"_parent\"><img src=\"https://colab.research.google.com/assets/colab-badge.svg\" alt=\"Open In Colab\"/></a>"
      ]
    },
    {
      "cell_type": "code",
      "execution_count": null,
      "metadata": {
        "colab": {
          "base_uri": "https://localhost:8080/"
        },
        "id": "Li-84Jl0QsMF",
        "outputId": "b9cc60df-b618-4a86-e0a5-5ef16f15c1c8"
      },
      "outputs": [
        {
          "output_type": "stream",
          "name": "stdout",
          "text": [
            "     Name  Age         City\n",
            "0  Andrey   28     Warshava\n",
            "1    Alex   54  Novosibirsk\n",
            "2    Liza   37      Barnaul\n",
            "3   Roman   12     Kemerovo\n",
            "4   Danil   35  Novosibirsk\n",
            "0    Andrey\n",
            "1      Alex\n",
            "2      Liza\n",
            "3     Roman\n",
            "4     Danil\n",
            "Name: Name, dtype: object\n",
            "Name      Andrey\n",
            "Age           28\n",
            "City    Warshava\n",
            "Name: 0, dtype: object\n",
            "    Name  Age         City\n",
            "1   Alex   54  Novosibirsk\n",
            "2   Liza   37      Barnaul\n",
            "4  Danil   35  Novosibirsk\n",
            "     Name  Age         City\n",
            "0  Andrey   28     Warshava\n",
            "1    Alex   54  Novosibirsk\n",
            "2    Liza   37      Barnaul\n",
            "3   Roman   12     Kemerovo\n",
            "4   Danil   35  Novosibirsk\n",
            "     Name  Age         City\n",
            "0  Andrey   28     Warshava\n",
            "1    Alex   54  Novosibirsk\n",
            "2    Liza   37      Barnaul\n",
            "3   Roman   12     Kemerovo\n",
            "4   Danil   35  Novosibirsk\n",
            "             Age\n",
            "count   5.000000\n",
            "mean   33.200000\n",
            "std    15.221695\n",
            "min    12.000000\n",
            "25%    28.000000\n",
            "50%    35.000000\n",
            "75%    37.000000\n",
            "max    54.000000\n",
            "<class 'pandas.core.frame.DataFrame'>\n",
            "RangeIndex: 5 entries, 0 to 4\n",
            "Data columns (total 3 columns):\n",
            " #   Column  Non-Null Count  Dtype \n",
            "---  ------  --------------  ----- \n",
            " 0   Name    5 non-null      object\n",
            " 1   Age     5 non-null      int64 \n",
            " 2   City    5 non-null      object\n",
            "dtypes: int64(1), object(2)\n",
            "memory usage: 252.0+ bytes\n",
            "None\n"
          ]
        }
      ],
      "source": [
        "import pandas as pd\n",
        "\n",
        "data = {\n",
        "    'Name': ['Andrey', 'Alex', 'Liza', 'Roman', 'Danil'],\n",
        "    'Age': [28, 54, 37, 12, 35],\n",
        "    'City': ['Warshava', 'Novosibirsk', 'Barnaul', 'Kemerovo', 'Novosibirsk']\n",
        "}\n",
        "\n",
        "df = pd.DataFrame(data)\n",
        "\n",
        "print(df)\n",
        "print(df['Name'])\n",
        "print(df.loc[0])\n",
        "print(df[df['Age'] > 30])\n",
        "print(df.head())\n",
        "print(df.tail())\n",
        "print(df.describe())\n",
        "print(df.info())"
      ]
    },
    {
      "cell_type": "code",
      "source": [
        "df = pd.read_csv('/content/inputDataUsers.csv')\n",
        "# print(df.head())\n",
        "\n",
        "filtered_df = df[df['type'] == 'Заказчик']\n",
        "print(filtered_df)"
      ],
      "metadata": {
        "colab": {
          "base_uri": "https://localhost:8080/"
        },
        "id": "2s8TyO9HU_E-",
        "outputId": "1db2645b-b2c1-4cf1-e74c-cdb7730447ec"
      },
      "execution_count": null,
      "outputs": [
        {
          "output_type": "stream",
          "name": "stdout",
          "text": [
            "   userID                          fio        phone   login password      type\n",
            "5       6     Овчинников Фёдор Никитич  89219567849  login6    pass6  Заказчик\n",
            "6       7      Петров Никита Артёмович  89219567841  login7    pass7  Заказчик\n",
            "7       8  Ковалева Софья Владимировна  89219567842  login8    pass8  Заказчик\n",
            "8       9    Кузнецов Сергей Матвеевич  89219567843  login9    pass9  Заказчик\n"
          ]
        }
      ]
    },
    {
      "cell_type": "code",
      "source": [
        "data = {\n",
        "    'Name': ['Andrey', 'Alex', 'Liza', 'Roman', 'Danil'],\n",
        "    'Age': [28, 54, None, 12, 35],\n",
        "    'City': ['Warshava', None, 'Barnaul', 'Kemerovo', 'Novosibirsk']\n",
        "}\n",
        "\n",
        "df = pd.DataFrame(data)\n",
        "df.fillna(0, inplace=True)\n",
        "# df.dropna(inplace=True)\n",
        "\n",
        "# df.drop_duplicates(inplace=True)\n",
        "df['Age'] = df['Age'].astype(int)\n",
        "print(df)"
      ],
      "metadata": {
        "colab": {
          "base_uri": "https://localhost:8080/"
        },
        "id": "ecbdE8ALWw3S",
        "outputId": "09bcc958-a918-4c71-a101-4673cfc9f180"
      },
      "execution_count": null,
      "outputs": [
        {
          "output_type": "stream",
          "name": "stdout",
          "text": [
            "     Name  Age         City\n",
            "0  Andrey   28     Warshava\n",
            "1    Alex   54            0\n",
            "2    Liza    0      Barnaul\n",
            "3   Roman   12     Kemerovo\n",
            "4   Danil   35  Novosibirsk\n"
          ]
        }
      ]
    },
    {
      "cell_type": "markdown",
      "source": [
        "Данные с csv_файла"
      ],
      "metadata": {
        "id": "PqNUZFAFaIJk"
      }
    },
    {
      "cell_type": "code",
      "source": [
        "df = pd.read_csv('/content/data.csv')\n",
        "print(\"Данные из файла:\")\n",
        "\n",
        "df['Views'] = df['Views'].fillna(df['Views'].mean())\n",
        "df['Revenue'] = df['Revenue'].fillna(0)\n",
        "df.drop_duplicates(inplace=True)\n",
        "df['Views'] = df['Views'].astype(int)\n",
        "df['Revenue'] = df['Revenue'].astype(int)\n",
        "df['Date'] = pd.to_datetime(df['Date'])\n",
        "print(df)\n",
        "print(\"Описание данных:\")\n",
        "print(df.describe())\n",
        "\n",
        "filtered_youtube = df[df['Platform'] == 'YouTube']\n",
        "print(filtered_youtube)\n",
        "\n",
        "grouped = df.groupby('Date').agg({'Views': 'sum', 'Revenue': 'sum'}).reset_index()\n",
        "print(grouped)\n",
        "\n",
        "mean_views = grouped['Views'].mean()\n",
        "mean_revenues = grouped['Revenue'].mean()\n",
        "print(f\"Средние просмотры: {mean_views}\")\n",
        "print(f\"Среднее доходы: {mean_revenues}\")"
      ],
      "metadata": {
        "colab": {
          "base_uri": "https://localhost:8080/"
        },
        "id": "KofQZWKHaM6K",
        "outputId": "2337179d-753b-4a8b-9645-7bfbdc9b9926"
      },
      "execution_count": null,
      "outputs": [
        {
          "output_type": "stream",
          "name": "stdout",
          "text": [
            "Данные из файла:\n",
            "        Date   Platform  Views  Revenue\n",
            "0 2023-01-01    YouTube   1000      500\n",
            "1 2023-01-02    YouTube   1500      750\n",
            "2 2023-01-03   Facebook   1200      600\n",
            "3 2023-01-04    YouTube   1800      900\n",
            "4 2023-01-05   Facebook   1100      550\n",
            "5 2023-01-06    YouTube   1437        0\n",
            "6 2023-01-07  Instagram   2000     1000\n",
            "7 2023-01-08   Facebook   1300      650\n",
            "8 2023-01-09  Instagram   1437        0\n",
            "9 2023-01-10    YouTube   1600      800\n",
            "Описание данных:\n",
            "                      Date        Views      Revenue\n",
            "count                   10    10.000000    10.000000\n",
            "mean   2023-01-05 12:00:00  1437.400000   575.000000\n",
            "min    2023-01-01 00:00:00  1000.000000     0.000000\n",
            "25%    2023-01-03 06:00:00  1225.000000   512.500000\n",
            "50%    2023-01-05 12:00:00  1437.000000   625.000000\n",
            "75%    2023-01-07 18:00:00  1575.000000   787.500000\n",
            "max    2023-01-10 00:00:00  2000.000000  1000.000000\n",
            "std                    NaN   308.895955   340.138861\n",
            "        Date Platform  Views  Revenue\n",
            "0 2023-01-01  YouTube   1000      500\n",
            "1 2023-01-02  YouTube   1500      750\n",
            "3 2023-01-04  YouTube   1800      900\n",
            "5 2023-01-06  YouTube   1437        0\n",
            "9 2023-01-10  YouTube   1600      800\n",
            "        Date  Views  Revenue\n",
            "0 2023-01-01   1000      500\n",
            "1 2023-01-02   1500      750\n",
            "2 2023-01-03   1200      600\n",
            "3 2023-01-04   1800      900\n",
            "4 2023-01-05   1100      550\n",
            "5 2023-01-06   1437        0\n",
            "6 2023-01-07   2000     1000\n",
            "7 2023-01-08   1300      650\n",
            "8 2023-01-09   1437        0\n",
            "9 2023-01-10   1600      800\n",
            "Средние просмотры: 1437.4\n",
            "Среднее доходы: 575.0\n"
          ]
        }
      ]
    }
  ]
}