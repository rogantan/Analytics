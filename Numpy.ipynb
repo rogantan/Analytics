{
  "nbformat": 4,
  "nbformat_minor": 0,
  "metadata": {
    "colab": {
      "provenance": [],
      "authorship_tag": "ABX9TyP6XjnRISAeRcQKJzpXkPrH",
      "include_colab_link": true
    },
    "kernelspec": {
      "name": "python3",
      "display_name": "Python 3"
    },
    "language_info": {
      "name": "python"
    }
  },
  "cells": [
    {
      "cell_type": "markdown",
      "metadata": {
        "id": "view-in-github",
        "colab_type": "text"
      },
      "source": [
        "<a href=\"https://colab.research.google.com/github/rogantan/Analytics/blob/main/Numpy.ipynb\" target=\"_parent\"><img src=\"https://colab.research.google.com/assets/colab-badge.svg\" alt=\"Open In Colab\"/></a>"
      ]
    },
    {
      "cell_type": "code",
      "execution_count": null,
      "metadata": {
        "id": "n78bfaGEoj3Z",
        "outputId": "63179447-f589-4f2c-fe7b-dd45e49bd3bb",
        "colab": {
          "base_uri": "https://localhost:8080/"
        }
      },
      "outputs": [
        {
          "output_type": "stream",
          "name": "stdout",
          "text": [
            "[ 2  4  6  8 10]\n",
            "[[ 2  4  6]\n",
            " [ 8 10 12]\n",
            " [14 16 18]]\n"
          ]
        }
      ],
      "source": [
        "import numpy as np\n",
        "\n",
        "a = [1, 2, 3, 4, 5]\n",
        "\n",
        "arr = np.array(a)\n",
        "\n",
        "matrix = np.array([\n",
        "    [1, 2, 3],\n",
        "    [4, 5, 6],\n",
        "    [7, 8, 9]\n",
        "])\n",
        "\n",
        "print(arr * 2)\n",
        "print(matrix * 2)\n"
      ]
    },
    {
      "cell_type": "code",
      "source": [
        "zeros = np.zeros((3, 4))\n",
        "print(zeros)\n",
        "\n",
        "ones = np.ones((3, 4))\n",
        "print(ones)\n",
        "\n",
        "eye = np.eye(5)\n",
        "print(eye)\n",
        "\n",
        "linspace = np.linspace(0, 10, 5)\n",
        "print(linspace)\n",
        "\n",
        "arange = np.arange(0, 10, 3)\n",
        "print(arange)\n",
        "\n",
        "reshaped = arange.reshape((2, 2)) # превращение одномерного массива в двумерный\n",
        "print(reshaped)"
      ],
      "metadata": {
        "colab": {
          "base_uri": "https://localhost:8080/"
        },
        "id": "6rG-b83VDL2N",
        "outputId": "d27748ec-ebbe-4671-9100-93ec367724f0"
      },
      "execution_count": null,
      "outputs": [
        {
          "output_type": "stream",
          "name": "stdout",
          "text": [
            "[[0. 0. 0. 0.]\n",
            " [0. 0. 0. 0.]\n",
            " [0. 0. 0. 0.]]\n",
            "[[1. 1. 1. 1.]\n",
            " [1. 1. 1. 1.]\n",
            " [1. 1. 1. 1.]]\n",
            "[[1. 0. 0. 0. 0.]\n",
            " [0. 1. 0. 0. 0.]\n",
            " [0. 0. 1. 0. 0.]\n",
            " [0. 0. 0. 1. 0.]\n",
            " [0. 0. 0. 0. 1.]]\n",
            "[ 0.   2.5  5.   7.5 10. ]\n",
            "[0 3 6 9]\n",
            "[[0 3]\n",
            " [6 9]]\n"
          ]
        }
      ]
    },
    {
      "cell_type": "code",
      "source": [
        "arr1 = np.array([0, 1, 2, 3, 4])\n",
        "arr2 = np.array([5, 6, 7, 8, 9])\n",
        "hstack = np.hstack((arr1, arr2)) # объединение двух массивов по горизонтали\n",
        "print(hstack)"
      ],
      "metadata": {
        "colab": {
          "base_uri": "https://localhost:8080/"
        },
        "id": "H5THEbBFFlFY",
        "outputId": "fde20605-3a18-487c-e53a-3ea4e9057c0d"
      },
      "execution_count": null,
      "outputs": [
        {
          "output_type": "stream",
          "name": "stdout",
          "text": [
            "[0 1 2 3 4 5 6 7 8 9]\n"
          ]
        }
      ]
    },
    {
      "cell_type": "code",
      "source": [
        "vstack = np.vstack((arr1, arr2)) # объединение по вертикали\n",
        "print(vstack)"
      ],
      "metadata": {
        "colab": {
          "base_uri": "https://localhost:8080/"
        },
        "id": "ePDJ6gFIGFhH",
        "outputId": "c6814f42-b398-4428-d9a5-71fd71b774f3"
      },
      "execution_count": null,
      "outputs": [
        {
          "output_type": "stream",
          "name": "stdout",
          "text": [
            "[[0 1 2 3 4]\n",
            " [5 6 7 8 9]]\n"
          ]
        }
      ]
    },
    {
      "cell_type": "code",
      "source": [
        "arr = np.array([1, 2, 3, 4, 5])\n",
        "print(np.mean(arr))\n",
        "print(np.std(arr))\n",
        "print(np.median(arr))\n",
        "print(np.min(arr), np.max(arr))"
      ],
      "metadata": {
        "colab": {
          "base_uri": "https://localhost:8080/"
        },
        "id": "2SThD7y7Groo",
        "outputId": "45662ac2-047c-4c78-f5d0-acd701c16b89"
      },
      "execution_count": null,
      "outputs": [
        {
          "output_type": "stream",
          "name": "stdout",
          "text": [
            "3.0\n",
            "1.4142135623730951\n",
            "3.0\n",
            "1 5\n"
          ]
        }
      ]
    },
    {
      "cell_type": "markdown",
      "source": [
        "Есть данные о зарплатах сотрудников, найти среднюю зарплату, максимальная и минимальная зарплата, стандартное отклонение зарплат, вывод зарплат, которые выше среднего"
      ],
      "metadata": {
        "id": "vS3pHmVmIEFo"
      }
    },
    {
      "cell_type": "code",
      "source": [
        "arr = np.array([56, 48, 458, 78, 56, 47, 23, 45, 21, 36, 59, 64, 87])\n",
        "\n",
        "mean_salary = np.mean(arr)\n",
        "print(f\"Среденее значение: {mean_salary}K$\")\n",
        "\n",
        "max_salary = np.max(arr)\n",
        "print(f\"Максимальная зарплата: {max_salary}K$\")\n",
        "\n",
        "min_salary = np.min(arr)\n",
        "print(f\"Минимальная зарплата: {min_salary}K$\")\n",
        "\n",
        "std_salary = np.std(arr)\n",
        "print(f\"Стандартное отклонение зарплаты: {std_salary}\")\n",
        "\n",
        "median_salary = np.median(arr)\n",
        "print(f\"Медиана: {median_salary}\")\n",
        "\n",
        "adove_mean = arr[arr > mean_salary]\n",
        "print(f\"Зарплаты выше среднего: {adove_mean}\")"
      ],
      "metadata": {
        "colab": {
          "base_uri": "https://localhost:8080/"
        },
        "id": "mN4y16qNH-YI",
        "outputId": "7ad2f746-a830-4144-c58a-e97738af07b3"
      },
      "execution_count": null,
      "outputs": [
        {
          "output_type": "stream",
          "name": "stdout",
          "text": [
            "Среденее значение: 82.92307692307692K$\n",
            "Максимальная зарплата: 458K$\n",
            "Минимальная зарплата: 21K$\n",
            "Стандартное отклонение зарплаты: 109.78262545626703\n",
            "Медиана: 56.0\n",
            "Зарплаты выше среднего: [458  87]\n"
          ]
        }
      ]
    },
    {
      "cell_type": "markdown",
      "source": [
        "Анализ данных о продажах в магазине за послдений месяц.\n"
      ],
      "metadata": {
        "id": "UPDZyd_LLF37"
      }
    },
    {
      "cell_type": "code",
      "source": [
        "products_ids = np.array([101, 102, 103, 104, 105])\n",
        "prices = np.array([10.99, 20.99, 15.24, 55.43, 35.35])\n",
        "countes = np.array([10, 5, 32, 36, 26])\n",
        "dates = np.array([\n",
        "    '2024-01-01', '2024-02-02', '2024-01-05', '2024-02-05', '2024-03-01'\n",
        "])\n",
        "\n",
        "total_sales = prices * countes\n",
        "print(f\"Итоговые продажи: {total_sales}\")\n",
        "\n",
        "sum_sales = np.sum(total_sales)\n",
        "print(f\"Итоговая выручка: {sum_sales}$\")\n",
        "\n",
        "average_sales = np.mean(total_sales)\n",
        "print(f\"Средняя выручка: {average_sales:.2f}\")\n",
        "\n",
        "best_produict_id = np.argmax(total_sales)\n",
        "print(f\"Лучший продукт по продажам: {products_ids[best_produict_id]}\")\n",
        "\n",
        "worth_produict_id = np.argmin(total_sales)\n",
        "print(f\"Худший продукт по продажам: {products_ids[worth_produict_id]}\")"
      ],
      "metadata": {
        "colab": {
          "base_uri": "https://localhost:8080/"
        },
        "id": "I4jVww-pL2wv",
        "outputId": "6a0c019e-77ab-491e-8108-9b5bba8c5bb6"
      },
      "execution_count": null,
      "outputs": [
        {
          "output_type": "stream",
          "name": "stdout",
          "text": [
            "Итоговые продажи: [ 109.9   104.95  487.68 1995.48  919.1 ]\n",
            "Итоговая выручка: 3617.11$\n",
            "Средняя выручка: 723.42\n",
            "Лучший продукт по прожажам: 104\n",
            "Худший продукт по прожажам: 102\n"
          ]
        }
      ]
    }
  ]
}